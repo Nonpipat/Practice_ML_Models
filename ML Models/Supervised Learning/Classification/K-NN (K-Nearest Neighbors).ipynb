{
 "cells": [
  {
   "cell_type": "code",
   "execution_count": null,
   "id": "95c5a589",
   "metadata": {},
   "outputs": [],
   "source": [
    "import numpy as np"
   ]
  },
  {
   "cell_type": "code",
   "execution_count": 33,
   "id": "0a225588",
   "metadata": {},
   "outputs": [],
   "source": [
    "\"\"\"Perdict forest fire with K-NN\"\"\"\n",
    "def forest_fire(today):\n",
    "    x = np.array([[22.8,40],[20.3,45],[18.2,46],[19.6,48],[24.1,29],[17.8,51],[17.7,25],[28.6,27]])\n",
    "    y = np.array(['No','No','Yes','Yes','Yes','No','Yes','No'])\n",
    "    P = np.array(today)\n",
    "    D = np.zeros(len(y))\n",
    "    \"\"\"enumerate อ่านออกมาทั้งค่าเเละลำดับ\"\"\"\n",
    "    for i,dataX in enumerate(x):\n",
    "        D[i] = np.sqrt(np.sum((P-dataX)**2))\n",
    "    minD = np.min(D)\n",
    "    \"\"\"argmin ส่งค่าออกมาเป็นลำดับ\"\"\"\n",
    "    indexMin = np.argmin(D)\n",
    "    predictResult = y[indexMin]\n",
    "    return predictResult"
   ]
  },
  {
   "cell_type": "code",
   "execution_count": 35,
   "id": "5e3fb81c",
   "metadata": {},
   "outputs": [
    {
     "name": "stdout",
     "output_type": "stream",
     "text": [
      "Yes\n"
     ]
    }
   ],
   "source": [
    "\"\"\"[temperature,moisture]\"\"\"\n",
    "today = [18,44]\n",
    "result = forest_fire(today)\n",
    "print(result)"
   ]
  }
 ],
 "metadata": {
  "kernelspec": {
   "display_name": "Python 3 (ipykernel)",
   "language": "python",
   "name": "python3"
  },
  "language_info": {
   "codemirror_mode": {
    "name": "ipython",
    "version": 3
   },
   "file_extension": ".py",
   "mimetype": "text/x-python",
   "name": "python",
   "nbconvert_exporter": "python",
   "pygments_lexer": "ipython3",
   "version": "3.9.6"
  }
 },
 "nbformat": 4,
 "nbformat_minor": 5
}
